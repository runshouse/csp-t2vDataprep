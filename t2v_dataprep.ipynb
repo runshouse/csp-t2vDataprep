{
 "cells": [
  {
   "cell_type": "code",
   "execution_count": null,
   "metadata": {},
   "outputs": [],
   "source": [
    "input_dir = \"G:/ModelscopeTraining/Datasets/subset100_052423\" # the input directory path\n",
    "output_dir = \"G:/ModelscopeTraining/Datasets/subset100_clean\" # the output directory path"
   ]
  },
  {
   "cell_type": "code",
   "execution_count": null,
   "metadata": {},
   "outputs": [],
   "source": [
    "%pip install moviepy"
   ]
  },
  {
   "cell_type": "code",
   "execution_count": null,
   "metadata": {},
   "outputs": [],
   "source": [
    "import os\n",
    "import subprocess\n",
    "import re\n",
    "from concurrent.futures import ThreadPoolExecutor\n",
    "from moviepy.editor import VideoFileClip\n",
    "\n",
    "# Step 1: Setup environment\n",
    "input_dir = \"G:\\ModelscopeTraining\\Datasets\\subset_v20230525\" # the input directory path\n",
    "output_dir = \"G:\\ModelscopeTraining\\Datasets\\subset_v20230525_prepped\" # the output directory path\n",
    "min_res_width = 640  # minimum resolution width\n",
    "min_res_height = 360  # minimum resolution height\n",
    "min_duration = 60  # minimum duration in seconds\n",
    "out_res_width = 576  # output resolution width\n",
    "out_res_height = 320  # output resolution height\n",
    "num_threads = 8  # number of threads to use for processing\n",
    "\n",
    "# Step 2: Iterate through all files\n",
    "file_list = []\n",
    "\n",
    "for file_name in os.listdir(input_dir):\n",
    "    if file_name.endswith((\".mp4\", \".mov\", \".webm\")):\n",
    "        file_path = os.path.join(input_dir, file_name)\n",
    "\n",
    "        cmd_width = f'ffprobe -v error -select_streams v:0 -show_entries stream=width -of default=noprint_wrappers=1:nokey=1 \"{file_path}\"'\n",
    "        cmd_height = f'ffprobe -v error -select_streams v:0 -show_entries stream=height -of default=noprint_wrappers=1:nokey=1 \"{file_path}\"'\n",
    "        \n",
    "        try:\n",
    "            width = int(float(subprocess.check_output(cmd_width, shell=True).decode(\"utf-8\").strip()))\n",
    "            height = int(float(subprocess.check_output(cmd_height, shell=True).decode(\"utf-8\").strip()))\n",
    "            \n",
    "            # Try getting the duration with ffprobe first\n",
    "            try:\n",
    "                cmd_duration = f'ffprobe -v error -select_streams v:0 -show_entries stream=duration -of default=noprint_wrappers=1:nokey=1 \"{file_path}\"'\n",
    "                duration = int(float(subprocess.check_output(cmd_duration, shell=True).decode(\"utf-8\").strip()))\n",
    "            except:\n",
    "                # If ffprobe fails, use moviepy\n",
    "                clip = VideoFileClip(file_path)\n",
    "                duration = int(clip.duration)\n",
    "                clip.close()  # Ensure to close the clip to free up system resources\n",
    "            \n",
    "            if width >= min_res_width and height >= min_res_height and duration >= min_duration:\n",
    "                file_list.append(file_name)\n",
    "        except ValueError as e:\n",
    "            print(f\"Error: Could not retrieve width, height, or duration for file {file_name}. Skipping...\")\n",
    "        except subprocess.CalledProcessError as e:\n",
    "            print(f\"Error processing file {file_name}: {e}\")\n",
    "\n",
    "\n",
    "# Step 3: Write to .txt file\n",
    "with open(os.path.join(output_dir, \"video_list.txt\"), \"w\") as f:\n",
    "    for file_name in file_list:\n",
    "        f.write(\"%s\\n\" % file_name)\n",
    "\n",
    "# Step 4 & 5: Scale, crop videos and save (multithreaded)\n",
    "def process_video(file_name):\n",
    "    clean_name = re.sub(r\"\\W+\", \"\", file_name)\n",
    "    input_path = os.path.join(input_dir, file_name)\n",
    "    output_path = os.path.join(output_dir, clean_name)\n",
    "    output_path = os.path.splitext(output_path)[0] + \".mp4\"\n",
    "    cmd = f'ffmpeg -i \"{input_path}\" -vf \"scale={out_res_width}:{out_res_height}:force_original_aspect_ratio=increase,crop={out_res_width}:{out_res_height},setsar=1\" -b:v 1M \"{output_path}\"'\n",
    "    try:\n",
    "        subprocess.run(cmd, shell=True, check=True)\n",
    "        print(f\"Processing complete for file: {file_name}\")\n",
    "    except subprocess.CalledProcessError as e:\n",
    "        print(f\"Error processing file {file_name}: {e}\")\n",
    "\n",
    "# Use ThreadPoolExecutor to process videos in parallel\n",
    "with ThreadPoolExecutor(max_workers=num_threads) as executor:\n",
    "    executor.map(process_video, file_list)\n"
   ]
  }
 ],
 "metadata": {
  "kernelspec": {
   "display_name": "text2video-finetune",
   "language": "python",
   "name": "python3"
  },
  "language_info": {
   "codemirror_mode": {
    "name": "ipython",
    "version": 3
   },
   "file_extension": ".py",
   "mimetype": "text/x-python",
   "name": "python",
   "nbconvert_exporter": "python",
   "pygments_lexer": "ipython3",
   "version": "3.10.8"
  },
  "orig_nbformat": 4
 },
 "nbformat": 4,
 "nbformat_minor": 2
}
